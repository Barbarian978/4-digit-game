{
 "cells": [
  {
   "cell_type": "markdown",
   "metadata": {},
   "source": [
    "## Homework 1 - Python Practice (Data Structures, Spring 2020)\n",
    "\n",
    "### Name: Bryan Ng 吳國維\n",
    "### Student ID Number: 107310242\n",
    "\n",
    "### Problem 1\n",
    "Consider the following code. Suppose that you are given a list $A$ of integers, say $A = [2, 44, 25, 75, 33, 56, 85, 16, 98, 64]$. To complete the script, please write one line of Python that takes $A$ and makes a new list having only the even integers of list $A$ in it.\n",
    "\n"
   ]
  },
  {
   "cell_type": "code",
   "execution_count": 1,
   "metadata": {},
   "outputs": [
    {
     "name": "stdout",
     "output_type": "stream",
     "text": [
      "[4, 16, 36, 64, 100]\n"
     ]
    }
   ],
   "source": [
    "A = [1, 4, 9, 16, 25, 36, 49, 64, 81, 100]\n",
    "# please provide one line of Python that takes 𝐴 and makes a new list having only the even intergers of list 𝐴.\n",
    "B = list(filter(lambda n: (n%2==0), A))\n",
    "\n",
    "print(B)"
   ]
  },
  {
   "cell_type": "markdown",
   "metadata": {},
   "source": [
    "### Problem 2\n",
    "\n",
    "Suppose that there are two lists $A$ and $B$ (may not be sorted) of different sizes and we would like to list the elements that are in both lists. Note that there will be no duplicated elements in the resulting list. For example, two given lists $A$ and $B$ are as below:  \n",
    "$A$ = [23, 27, 7, 28, 15, 22, 21, 25, 19, 10, 11, 26, 27]  \n",
    "$B$ = [29, 26, 6, 16, 10, 1, 7, 18, 28, 3, 24, 27, 14, 12, 4, 21].  \n",
    "The resulting list will be  \n",
    "[27, 7, 28, 21, 10, 26].  \n",
    "\n",
    "In this exercise, you need to first generate two lists $A$ and $B$ randomly with different sizes. One can use [Python random documentation](https://docs.python.org/3.0/library/random.html) to figure out how to generate a random list. Below shows a line of code that produces a list of 20 random numbers within 0 to 99.  \n",
    "    `A = [random.randint(1, 100) for i in range(20)]`  \n",
    "Then, write as few lines as possible to generate a list that contains only the elements in both generated lists without duplicates."
   ]
  },
  {
   "cell_type": "code",
   "execution_count": 2,
   "metadata": {},
   "outputs": [
    {
     "name": "stdout",
     "output_type": "stream",
     "text": [
      "The generated two lists A and B:\n",
      "A= [92, 90, 41, 18, 86, 29, 39, 47, 83, 8, 37, 93, 60, 46, 66, 27, 1, 57, 99, 31]\n",
      "B= [92, 29, 81, 62, 13, 14, 68, 24, 58, 93, 89, 99, 31, 16, 65, 88, 82, 31, 76, 82]\n",
      "Resulting list: [99, 93, 92, 29, 31]\n"
     ]
    }
   ],
   "source": [
    "import random\n",
    "\n",
    "# generate two lists A and B randomly\n",
    "A = [random.randint(1, 100) for i in range(20)]\n",
    "B = [random.randint(1, 100) for i in range(20)]\n",
    "# generate a list that contains only the elements in both generated lists without duplicates\n",
    "# using as few lines as possible \n",
    "\n",
    "print('The generated two lists A and B:')\n",
    "print('A=', A)\n",
    "print('B=', B)\n",
    "print('Resulting list:', list(set(A).intersection(set(B))))\n"
   ]
  },
  {
   "cell_type": "markdown",
   "metadata": {},
   "source": [
    "### Problem 3\n",
    "\n",
    "Suppose that we have a number, say 965242, and we can have a set of numbers by shuffling the digits of the given number. We now would like to find the **maximum shuffling difference** among all the numbers in that set. In other words, we want to have the difference between the maximum and minimum numbers in that set. Some examples are as below.\n",
    "1. 621951 will have the *maximum shuffling difference* 852642 because 965211 - 112569 = 852642\n",
    "2. 185338 will have the *maximum shuffling difference* 751743 because 885331 - 133588 = 751743\n",
    "3. 689015954 will have the *maximum shuffling difference* 760833 because 998655410 - 014556899 = 984098511\n",
    "\n",
    "Please write a program that first generates a number randomly with at most 13 digits and then computes the maximum shuffling difference of that generated number. The output is like following:  \n",
    "    `The given number 689015954  has the maximum shuffling difference 984098511 (= 998655410 - 014556899 ).`"
   ]
  },
  {
   "cell_type": "code",
   "execution_count": 3,
   "metadata": {},
   "outputs": [
    {
     "name": "stdout",
     "output_type": "stream",
     "text": [
      "The given number 5548691628664 has the maximum shuffling difference 8642109887532 (= 9886666554421 - 1244556666889 ).\n"
     ]
    }
   ],
   "source": [
    "import random\n",
    "import string\n",
    "\n",
    "# generate a number randomly with at most 13 digits \n",
    "\n",
    "n = string.digits\n",
    "given_number = ( ''.join(random.choice(n) for i in range(13)) ) \n",
    "\n",
    "# compute the maximum shuffling difference\n",
    "\n",
    "M = int(''.join(sorted(given_number, reverse = True)))\n",
    "m = int(''.join(sorted(given_number)))\n",
    "d = M-m\n",
    "\n",
    "print (\"The given number\", given_number, \"has the maximum shuffling difference\", d, \"(=\", M,\"-\",m,\").\")\n",
    "\n"
   ]
  },
  {
   "cell_type": "markdown",
   "metadata": {},
   "source": [
    "### Problem 4\n",
    "Write a Python class named `Rectangle` constructed by a length and width and a method, `area()`, which will compute the area of a rectangle."
   ]
  },
  {
   "cell_type": "code",
   "execution_count": 4,
   "metadata": {},
   "outputs": [
    {
     "name": "stdout",
     "output_type": "stream",
     "text": [
      "Please give the length of the rectangle:7\n",
      "Please give the width of the rectangle:11\n",
      "the area of the input rectang is 77\n"
     ]
    }
   ],
   "source": [
    "#\n",
    "# Write a Python class named Rectangle constructed by a length and width \n",
    "# in addition, it has a method, area(), to compute the area of a rectangle.\n",
    "\n",
    "class Rectangle():\n",
    "    def __init__(self,length,width):\n",
    "        self.length = length\n",
    "        self.width  = width\n",
    "    def area(self):\n",
    "        return self.length*self.width\n",
    "        \n",
    "length = int(input(\"Please give the length of the rectangle:\"))\n",
    "width = int(input(\"Please give the width of the rectangle:\"))\n",
    "newRectangle = Rectangle(length, width)\n",
    "print('the area of the input rectang is', newRectangle.area())"
   ]
  },
  {
   "cell_type": "markdown",
   "metadata": {},
   "source": [
    "### Problem 5\n",
    "\n",
    "Create a Python program that will play the \"A and B\" game with a user. The game works like this:  \n",
    "One randomly generates a 4-digit number and asks the user to guess this 4-digit number. For every digit that the user guesses correctly in the correct place, the user gets an “A”.  For every digit the user guesses correctly in the wrong place, the user gets a “B”. Every time the user makes a guess, tell them how many “As” and “Bs” the user gets. The process continues until the user guesses the correct 4-digit number and the game is over. During the process, keep track of the number of guesses the user makes throughout the game and tell the user at the end.  \n",
    "\n",
    "Here is an example and suppose that the number generated by the computer is 6581. The interaction may be as below:\n",
    "\n",
    "    Welcome to the A and B Game and a 4-digit number is generated.  \n",
    "    Please guess a number: \n",
    "    >>> 6284\n",
    "    2 A, 0 B\n",
    "    >>> 2451\n",
    "    1 A, 1 B\n",
    "    ...\n",
    "Until the user guesses the correct number or enter `exit` to quit the game."
   ]
  },
  {
   "cell_type": "code",
   "execution_count": 10,
   "metadata": {},
   "outputs": [
    {
     "name": "stdout",
     "output_type": "stream",
     "text": [
      "Welcome to the game.\n",
      "\n",
      "\n",
      "Please guess a 4-digits number: 1234\n",
      "Fail\n",
      "0 A 1 B\n",
      "\n",
      "\n",
      "Please guess another 4-digit number: 1122\n",
      "Fail\n",
      "0 A 0 B\n",
      "\n",
      "\n",
      "Please guess another 4-digit number: 3344\n",
      "Fail\n",
      "1 A 0 B\n",
      "\n",
      "\n",
      "Please guess another 4-digit number: 3111\n",
      "Fail\n",
      "0 A 0 B\n",
      "\n",
      "\n",
      "Please guess another 4-digit number: 4111\n",
      "Fail\n",
      "0 A 1 B\n",
      "\n",
      "\n",
      "Please guess another 4-digit number: 4567\n",
      "Fail\n",
      "0 A 1 B\n",
      "\n",
      "\n",
      "Please guess another 4-digit number: 4890\n",
      "Fail\n",
      "2 A 2 B\n",
      "\n",
      "\n",
      "Please guess another 4-digit number: 8490\n",
      "Fail\n",
      "1 A 3 B\n",
      "\n",
      "\n",
      "Please guess another 4-digit number: 9840\n",
      "Success\n",
      "You took 9 tries.\n"
     ]
    },
    {
     "ename": "SyntaxError",
     "evalue": "'return' outside function (<ipython-input-10-67355129a070>, line 44)",
     "output_type": "error",
     "traceback": [
      "\u001b[1;36m  File \u001b[1;32m\"<ipython-input-10-67355129a070>\"\u001b[1;36m, line \u001b[1;32m44\u001b[0m\n\u001b[1;33m    return\u001b[0m\n\u001b[1;37m          ^\u001b[0m\n\u001b[1;31mSyntaxError\u001b[0m\u001b[1;31m:\u001b[0m 'return' outside function\n"
     ]
    }
   ],
   "source": [
    "print(\"Welcome to the game.\")\n",
    "print(\"\\n\")\n",
    "import random\n",
    "import string\n",
    "from collections import Counter\n",
    "\n",
    "r = random.randrange(1000,9999)\n",
    "\n",
    "#  print(r)\n",
    "#You can check the first try if want to.\n",
    "\n",
    "guess = int(input(\"Please guess a 4-digits number: \"))\n",
    "\n",
    "if (guess==r):\n",
    "    print(\"Lucky, You got it on the first try!!\")\n",
    "    \n",
    "else:\n",
    "    trial = 0\n",
    "    \n",
    "    while(guess != r):\n",
    "        trial += 1\n",
    "        A = 0\n",
    "        r = str(r)\n",
    "        guess = str(guess)\n",
    "        for i in range(0,4):\n",
    "            if (guess[i]==r[i]):\n",
    "                A+=1\n",
    "            else:\n",
    "                continue\n",
    "                \n",
    "        if (A < 4):\n",
    "            X =(Counter(guess)&Counter(r))\n",
    "            Y = list(X.elements())\n",
    "            a = len(Y)\n",
    "            B = a - A\n",
    "            print(\"Fail\")\n",
    "            print (A, \"A\", B,\"B\")\n",
    "            print(\"\\n\")\n",
    "            guess = int(input(\"Please guess another 4-digit number: \"))\n",
    "    \n",
    "    if r == guess:\n",
    "        print(\"Success\")\n",
    "        print(\"You took\", trial, \"tries.\")\n"
   ]
  },
  {
   "cell_type": "code",
   "execution_count": null,
   "metadata": {},
   "outputs": [],
   "source": []
  }
 ],
 "metadata": {
  "kernelspec": {
   "display_name": "Python 3",
   "language": "python",
   "name": "python3"
  },
  "language_info": {
   "codemirror_mode": {
    "name": "ipython",
    "version": 3
   },
   "file_extension": ".py",
   "mimetype": "text/x-python",
   "name": "python",
   "nbconvert_exporter": "python",
   "pygments_lexer": "ipython3",
   "version": "3.7.3"
  }
 },
 "nbformat": 4,
 "nbformat_minor": 2
}
